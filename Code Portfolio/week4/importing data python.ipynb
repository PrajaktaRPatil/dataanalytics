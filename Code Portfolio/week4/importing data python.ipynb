{
 "cells": [
  {
   "cell_type": "code",
   "execution_count": 1,
   "metadata": {},
   "outputs": [],
   "source": [
    "# Data import Using Pandas.\n",
    "import pandas as pd"
   ]
  },
  {
   "cell_type": "code",
   "execution_count": 2,
   "metadata": {},
   "outputs": [],
   "source": [
    "data = pd.read_csv('yelp.csv')"
   ]
  },
  {
   "cell_type": "code",
   "execution_count": 3,
   "metadata": {},
   "outputs": [
    {
     "name": "stdout",
     "output_type": "stream",
     "text": [
      "                review_id                 user_id             business_id  \\\n",
      "0  vkVSCC7xljjrAI4UGfnKEQ  bv2nCi5Qv5vroFiqKGopiw  AEx2SYEUJmTxVVB18LlCwA   \n",
      "1  n6QzIUObkYshz4dz2QRJTw  bv2nCi5Qv5vroFiqKGopiw  VR6GpWIda3SfvPC-lg9H3w   \n",
      "2  MV3CcKScW05u5LVfF6ok0g  bv2nCi5Qv5vroFiqKGopiw  CKC0-MOWMqoeWf6s-szl8g   \n",
      "3  IXvOzsEMYtiJI0CARmj77Q  bv2nCi5Qv5vroFiqKGopiw  ACFtxLv8pGrrxMm6EgjreA   \n",
      "4  L_9BTb55X0GDtThi6GlZ6w  bv2nCi5Qv5vroFiqKGopiw  s2I_Ni76bjJNK9yG60iD-Q   \n",
      "\n",
      "   stars        date                                               text  \\\n",
      "0      5  2016-05-28  Super simple place but amazing nonetheless. It...   \n",
      "1      5  2016-05-28  Small unassuming place that changes their menu...   \n",
      "2      5  2016-05-28  Lester's is located in a beautiful neighborhoo...   \n",
      "3      4  2016-05-28  Love coming here. Yes the place always needs t...   \n",
      "4      4  2016-05-28  Had their chocolate almond croissant and it wa...   \n",
      "\n",
      "   useful  funny  cool  Polarity sentiment_list  subjectivity_list  \n",
      "0     0.0    0.0   0.0  0.251389       positive           0.474802  \n",
      "1     0.0    0.0   0.0  0.291667       positive           0.508333  \n",
      "2     0.0    0.0   0.0  0.295833       positive           0.404167  \n",
      "3     0.0    0.0   0.0  0.192857       positive           0.496703  \n",
      "4     0.0    0.0   0.0  0.530000       positive           0.700000  \n"
     ]
    }
   ],
   "source": [
    "# To Print the head of the DataFrame\n",
    "print(data.head())\n"
   ]
  },
  {
   "cell_type": "code",
   "execution_count": 6,
   "metadata": {},
   "outputs": [
    {
     "name": "stdout",
     "output_type": "stream",
     "text": [
      "                      review_id                 user_id  \\\n",
      "5261665  PoGSiNz1X5SUu0qEt-qM5w  mPjPyipaD0C_myqWqDipZg   \n",
      "5261666  -CJNPrDWgIkorx4iEZJXIg  mPjPyipaD0C_myqWqDipZg   \n",
      "5261667  W9eVvOcpBvG6lpJPoJOxuA  mPjPyipaD0C_myqWqDipZg   \n",
      "5261668  hqQ1UTFKMN2P1ezUow48OQ  mPjPyipaD0C_myqWqDipZg   \n",
      "5261669  ldsIs3sGXPJ7WM7VyAm4lQ  mPjPyipaD0C_myqWqDipZg   \n",
      "\n",
      "                    business_id  stars        date  \\\n",
      "5261665  Ngk84Ax1tXgpoJFEGxot3w      1  2011-11-21   \n",
      "5261666  pOEL97ld-FJMKO8Ki8JmYg      3  2016-04-30   \n",
      "5261667  5ubokMNw8qfbX2WtxgJG1Q      4  2011-10-23   \n",
      "5261668  EO3i5kTUG7_S2OIQ23sdSA      3  2011-11-07   \n",
      "5261669  HloEEXm_QzEpycuwA_RtQA      3  2011-11-15   \n",
      "\n",
      "                                                      text  useful  funny  \\\n",
      "5261665  Bought groupon $39 for 4 months from groupon, ...    36.0    3.0   \n",
      "5261666  Spring rolls was pretty good, cod was a bit ra...     0.0    0.0   \n",
      "5261667  Had a 8 dish set meal, was enough for 10 peopl...     3.0    0.0   \n",
      "5261668  A small, cozy family run Authentic korean rest...     2.0    0.0   \n",
      "5261669  Really nice atmosphere and settings and very c...     0.0    1.0   \n",
      "\n",
      "         cool  Polarity sentiment_list  subjectivity_list  \n",
      "5261665   3.0  0.151894       positive           0.589746  \n",
      "5261666   0.0  0.325000       positive           0.562500  \n",
      "5261667   1.0  0.211957       positive           0.588043  \n",
      "5261668   0.0  0.199931       positive           0.548900  \n",
      "5261669   1.0 -0.015815       negative           0.489741  \n"
     ]
    }
   ],
   "source": [
    "# To Print the tail of the DataFrame\n",
    "print(data.tail())\n"
   ]
  },
  {
   "cell_type": "code",
   "execution_count": 4,
   "metadata": {},
   "outputs": [
    {
     "data": {
      "text/plain": [
       "(5261670, 12)"
      ]
     },
     "execution_count": 4,
     "metadata": {},
     "output_type": "execute_result"
    }
   ],
   "source": [
    "#check shape of data\n",
    "data.shape"
   ]
  },
  {
   "cell_type": "code",
   "execution_count": 5,
   "metadata": {},
   "outputs": [
    {
     "data": {
      "text/plain": [
       "Index(['review_id', 'user_id', 'business_id', 'stars', 'date', 'text',\n",
       "       'useful', 'funny', 'cool', 'Polarity', 'sentiment_list',\n",
       "       'subjectivity_list'],\n",
       "      dtype='object')"
      ]
     },
     "execution_count": 5,
     "metadata": {},
     "output_type": "execute_result"
    }
   ],
   "source": [
    "#display column names\n",
    "data.columns"
   ]
  },
  {
   "cell_type": "code",
   "execution_count": 7,
   "metadata": {},
   "outputs": [
    {
     "name": "stdout",
     "output_type": "stream",
     "text": [
      "                review_id                 user_id             business_id  \\\n",
      "0  vkVSCC7xljjrAI4UGfnKEQ  bv2nCi5Qv5vroFiqKGopiw  AEx2SYEUJmTxVVB18LlCwA   \n",
      "1  n6QzIUObkYshz4dz2QRJTw  bv2nCi5Qv5vroFiqKGopiw  VR6GpWIda3SfvPC-lg9H3w   \n",
      "2  MV3CcKScW05u5LVfF6ok0g  bv2nCi5Qv5vroFiqKGopiw  CKC0-MOWMqoeWf6s-szl8g   \n",
      "3  IXvOzsEMYtiJI0CARmj77Q  bv2nCi5Qv5vroFiqKGopiw  ACFtxLv8pGrrxMm6EgjreA   \n",
      "4  L_9BTb55X0GDtThi6GlZ6w  bv2nCi5Qv5vroFiqKGopiw  s2I_Ni76bjJNK9yG60iD-Q   \n",
      "5  HRPm3vEZ_F-33TYVT7Pebw  _4iMDXbXZ1p1ONG297YEAQ  8QWPlVQ6D-OExqXoaD2Z1g   \n",
      "6  ymAUG8DZfQcFTBSOiaNN4w  u0LXt3Uea_GidxRW1xcsfg  9_CGhHMz8698M9-PkVf0CQ   \n",
      "7  8UIishPUD92hXtScSga_gw  u0LXt3Uea_GidxRW1xcsfg  gkCorLgPyQLsptTHalL61g   \n",
      "8  w41ZS9shepfO3uEyhXEWuQ  u0LXt3Uea_GidxRW1xcsfg  5r6-G9C4YLbC7Ziz57l3rQ   \n",
      "9  WF_QTN3p-thD74hqpp2j-Q  u0LXt3Uea_GidxRW1xcsfg  fDF_o2JPU8BR1Gya--jRIA   \n",
      "\n",
      "   stars        date                                               text  \\\n",
      "0      5  2016-05-28  Super simple place but amazing nonetheless. It...   \n",
      "1      5  2016-05-28  Small unassuming place that changes their menu...   \n",
      "2      5  2016-05-28  Lester's is located in a beautiful neighborhoo...   \n",
      "3      4  2016-05-28  Love coming here. Yes the place always needs t...   \n",
      "4      4  2016-05-28  Had their chocolate almond croissant and it wa...   \n",
      "5      5  2014-09-24  Cycle Pub Las Vegas was a blast! Got a groupon...   \n",
      "6      4  2012-05-11  Who would have guess that you would be able to...   \n",
      "7      4  2015-10-27  Always drove past this coffee house and wonder...   \n",
      "8      3  2013-02-09  Not bad!! Love that there is a gluten-free, ve...   \n",
      "9      5  2016-04-06  Love this place!\\r\\n\\r\\nPeggy is great with do...   \n",
      "\n",
      "   useful  funny  cool  Polarity sentiment_list  subjectivity_list  \n",
      "0     0.0    0.0   0.0  0.251389       positive           0.474802  \n",
      "1     0.0    0.0   0.0  0.291667       positive           0.508333  \n",
      "2     0.0    0.0   0.0  0.295833       positive           0.404167  \n",
      "3     0.0    0.0   0.0  0.192857       positive           0.496703  \n",
      "4     0.0    0.0   0.0  0.530000       positive           0.700000  \n",
      "5     1.0    0.0   0.0  0.105230       positive           0.340986  \n",
      "6     0.0    0.0   2.0  0.090548       positive           0.511420  \n",
      "7     1.0    0.0   0.0  0.210714       positive           0.571429  \n",
      "8     1.0    0.0   0.0  0.591250       positive           0.583333  \n",
      "9     3.0    0.0   0.0  0.473125       positive           0.597500  \n"
     ]
    }
   ],
   "source": [
    "#Print the first 10 rows element of data\n",
    "print(data[0:10])"
   ]
  },
  {
   "cell_type": "code",
   "execution_count": null,
   "metadata": {},
   "outputs": [],
   "source": []
  }
 ],
 "metadata": {
  "kernelspec": {
   "display_name": "Python 3",
   "language": "python",
   "name": "python3"
  },
  "language_info": {
   "codemirror_mode": {
    "name": "ipython",
    "version": 3
   },
   "file_extension": ".py",
   "mimetype": "text/x-python",
   "name": "python",
   "nbconvert_exporter": "python",
   "pygments_lexer": "ipython3",
   "version": "3.6.5"
  }
 },
 "nbformat": 4,
 "nbformat_minor": 2
}
